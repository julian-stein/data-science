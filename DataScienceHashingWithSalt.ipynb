{
 "cells": [
  {
   "cell_type": "code",
   "execution_count": 22,
   "metadata": {},
   "outputs": [],
   "source": [
    "import hashlib, os, pandas as pd"
   ]
  },
  {
   "cell_type": "code",
   "execution_count": 23,
   "metadata": {},
   "outputs": [],
   "source": [
    "def salt(plain_text_bytes, number_salting_bytes):\n",
    "    \"\"\"\n",
    "        Append a given number of random bytes to plain_text_bytes and return the result.\n",
    "    \"\"\"\n",
    "    return plain_text_bytes + os.urandom(number_salting_bytes)    "
   ]
  },
  {
   "cell_type": "code",
   "execution_count": 24,
   "metadata": {},
   "outputs": [],
   "source": [
    "def hash_with_salt(hashing_algorithm, text):\n",
    "    text_bytes = salt(bytes(text, 'utf-8'), hashing_algorithm.digest_size)\n",
    "    hashing_algorithm.update(text_bytes)    \n",
    "    return hashing_algorithm.hexdigest()"
   ]
  },
  {
   "cell_type": "code",
   "execution_count": 25,
   "metadata": {},
   "outputs": [],
   "source": [
    "# dataset by VincentLa, retrieved from https://www.kaggle.com/vincela9/charlottesville-on-twitter?select=aug16_sample.csv\n",
    "# license CA BY-SA 4.0 (https://creativecommons.org/licenses/by-sa/4.0/)\n",
    "plain_data = pd.read_csv('aug16_sample.csv')\n",
    "\n",
    "plain_data['user_name'] = [hash_with_salt(hashlib.sha512(), user_name) for user_name in plain_data['user_name']]\n",
    "plain_data['screen_name'] = [hash_with_salt(hashlib.sha512(), screen_name) for screen_name in plain_data['screen_name']]\n",
    "\n",
    "plain_data.to_csv('hashed.csv')\n"
   ]
  },
  {
   "cell_type": "code",
   "execution_count": null,
   "metadata": {},
   "outputs": [],
   "source": []
  }
 ],
 "metadata": {
  "kernelspec": {
   "display_name": "Python 3",
   "language": "python",
   "name": "python3"
  },
  "language_info": {
   "codemirror_mode": {
    "name": "ipython",
    "version": 3
   },
   "file_extension": ".py",
   "mimetype": "text/x-python",
   "name": "python",
   "nbconvert_exporter": "python",
   "pygments_lexer": "ipython3",
   "version": "3.7.4"
  }
 },
 "nbformat": 4,
 "nbformat_minor": 4
}
